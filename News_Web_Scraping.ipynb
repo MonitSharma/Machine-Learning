{
  "nbformat": 4,
  "nbformat_minor": 0,
  "metadata": {
    "colab": {
      "name": "News_Web_Scraping.ipynb",
      "provenance": []
    },
    "kernelspec": {
      "name": "python3",
      "display_name": "Python 3"
    }
  },
  "cells": [
    {
      "cell_type": "markdown",
      "metadata": {
        "id": "myuQZdFV-5yx"
      },
      "source": [
        "# Importing necessary libraries"
      ]
    },
    {
      "cell_type": "code",
      "metadata": {
        "id": "sAprmm6I-iS3"
      },
      "source": [
        "import urllib.request, sys, time\r\n",
        "from bs4 import BeautifulSoup\r\n",
        "import requests\r\n",
        "import pandas as pd"
      ],
      "execution_count": 1,
      "outputs": []
    },
    {
      "cell_type": "markdown",
      "metadata": {
        "id": "gTmZt-gU--eN"
      },
      "source": [
        "\r\n",
        "# Specifying number of pages to get"
      ]
    },
    {
      "cell_type": "code",
      "metadata": {
        "id": "US-2c3IO_Bpm"
      },
      "source": [
        "pagesToGet = 1"
      ],
      "execution_count": null,
      "outputs": []
    },
    {
      "cell_type": "markdown",
      "metadata": {
        "id": "E4KYhT3t_HNm"
      },
      "source": [
        "# Creating an empty array"
      ]
    },
    {
      "cell_type": "code",
      "metadata": {
        "id": "PSuH6b3N_F6E"
      },
      "source": [
        "upperframe = []"
      ],
      "execution_count": null,
      "outputs": []
    },
    {
      "cell_type": "code",
      "metadata": {
        "colab": {
          "base_uri": "https://localhost:8080/"
        },
        "id": "P95Hki6w-oR_",
        "outputId": "a345938b-a7f6-4cd3-98ae-cccc41dc160e"
      },
      "source": [
        "# iterating from 1 to the number of pages to get +1\r\n",
        "for page in range(1, pagesToGet + 1):\r\n",
        "    print('processing page :', page)\r\n",
        "    # enter the URL of the Website\r\n",
        "    url = 'https://www.politifact.com/factchecks/list/?page=' + str(page)\r\n",
        "    # Print that URL\r\n",
        "    print(url)\r\n",
        "\r\n",
        "    # need to throw an exception, so the code should be in a try-except block\r\n",
        "    try:\r\n",
        "        # it's similar to an if-else loop\r\n",
        "        page = requests.get(url)\r\n",
        "        # this describes what to do if an exception is thrown\r\n",
        "    except Exception as e:\r\n",
        "        error_type, error_obj, error_info = sys.exc_info()  # get the exception information\r\n",
        "        print('ERROR FOR LINK:', url)  # print the link that cause the problem\r\n",
        "        print(error_type, 'Line:', error_info.tb_lineno)  # print error info and line that threw the exception\r\n",
        "        continue  # ignore this page. Abandon this and go back.\r\n",
        "    time.sleep(2)\r\n",
        "\r\n",
        "    # Use the Beautiful Soup Library\r\n",
        "    soup = BeautifulSoup(page.text, 'html.parser')\r\n",
        "    frame = []\r\n",
        "\r\n",
        "    # Find all the links in the <li> that is the list directory with the following class name\r\n",
        "    links = soup.find_all('li', attrs={'class': 'o-listicle__item'})\r\n",
        "\r\n",
        "    # Print the size\r\n",
        "    print(len(links))\r\n",
        "\r\n",
        "    # create a file with name NEWS.csv and save all information there\r\n",
        "    filename = \"NEWS.csv\"\r\n",
        "    f = open(filename, \"w\", encoding='utf-8')\r\n",
        "    headers = \"Statement,Link,Date, Source, Label\\n\"\r\n",
        "    f.write(headers)\r\n",
        "\r\n",
        "    # iterate another loop in links to find other class of data\r\n",
        "    for j in links:\r\n",
        "        Statement = j.find(\"div\", attrs={'class': 'm-statement__quote'}).text.strip()\r\n",
        "        Link = \"https://www.politifact.com\"\r\n",
        "        Link += j.find(\"div\", attrs={'class': 'm-statement__quote'}).find('a')['href'].strip()\r\n",
        "        Date = j.find('div', attrs={'class': 'm-statement__body'}).find('footer').text[-14:-1].strip()\r\n",
        "        Source = j.find('div', attrs={'class': 'm-statement__meta'}).find('a').text.strip()\r\n",
        "        Label = j.find('div', attrs={'class': 'm-statement__content'}).find('img',\r\n",
        "                                                                            attrs={'class': 'c-image__original'}).get(\r\n",
        "            'alt').strip()\r\n",
        "        frame.append((Statement, Link, Date, Source, Label))\r\n",
        "        f.write(Statement.replace(\",\", \"^\") + \",\" + Link + \",\" + Date.replace(\",\", \"^\") + \",\" + Source.replace(\",\",\r\n",
        "                                                                                                               \"^\") + \",\" + Label.replace(\r\n",
        "            \",\", \"^\") + \"\\n\")\r\n",
        "    upperframe.extend(frame)\r\n"
      ],
      "execution_count": 3,
      "outputs": [
        {
          "output_type": "stream",
          "text": [
            "processing page : 1\n",
            "https://www.politifact.com/factchecks/list/?page=1\n",
            "30\n"
          ],
          "name": "stdout"
        }
      ]
    },
    {
      "cell_type": "code",
      "metadata": {
        "colab": {
          "base_uri": "https://localhost:8080/",
          "height": 202
        },
        "id": "HOhpNPCR-q19",
        "outputId": "478a7f88-e28e-4f6d-8ed5-e8469fe569d3"
      },
      "source": [
        "\r\n",
        "f.close()\r\n",
        "data = pd.DataFrame(upperframe, columns=['Statement', 'Link', 'Date', 'Source', 'Label'])\r\n",
        "data.head()"
      ],
      "execution_count": 4,
      "outputs": [
        {
          "output_type": "execute_result",
          "data": {
            "text/html": [
              "<div>\n",
              "<style scoped>\n",
              "    .dataframe tbody tr th:only-of-type {\n",
              "        vertical-align: middle;\n",
              "    }\n",
              "\n",
              "    .dataframe tbody tr th {\n",
              "        vertical-align: top;\n",
              "    }\n",
              "\n",
              "    .dataframe thead th {\n",
              "        text-align: right;\n",
              "    }\n",
              "</style>\n",
              "<table border=\"1\" class=\"dataframe\">\n",
              "  <thead>\n",
              "    <tr style=\"text-align: right;\">\n",
              "      <th></th>\n",
              "      <th>Statement</th>\n",
              "      <th>Link</th>\n",
              "      <th>Date</th>\n",
              "      <th>Source</th>\n",
              "      <th>Label</th>\n",
              "    </tr>\n",
              "  </thead>\n",
              "  <tbody>\n",
              "    <tr>\n",
              "      <th>0</th>\n",
              "      <td>Says the Biden administration labeled Libertar...</td>\n",
              "      <td>https://www.politifact.com/factchecks/2021/jan...</td>\n",
              "      <td>uary 22, 2021</td>\n",
              "      <td>Jeremy \"Spike\" Cohen</td>\n",
              "      <td>false</td>\n",
              "    </tr>\n",
              "    <tr>\n",
              "      <th>1</th>\n",
              "      <td>National Guard members turned their backs on B...</td>\n",
              "      <td>https://www.politifact.com/factchecks/2021/jan...</td>\n",
              "      <td>uary 22, 2021</td>\n",
              "      <td>Instagram posts</td>\n",
              "      <td>false</td>\n",
              "    </tr>\n",
              "    <tr>\n",
              "      <th>2</th>\n",
              "      <td>Video shows Biden saying “salute the Marines” ...</td>\n",
              "      <td>https://www.politifact.com/factchecks/2021/jan...</td>\n",
              "      <td>uary 22, 2021</td>\n",
              "      <td>Tweets</td>\n",
              "      <td>false</td>\n",
              "    </tr>\n",
              "    <tr>\n",
              "      <th>3</th>\n",
              "      <td>“Democrats forced our GREAT troops to sleep on...</td>\n",
              "      <td>https://www.politifact.com/factchecks/2021/jan...</td>\n",
              "      <td>uary 22, 2021</td>\n",
              "      <td>Facebook posts</td>\n",
              "      <td>false</td>\n",
              "    </tr>\n",
              "    <tr>\n",
              "      <th>4</th>\n",
              "      <td>In Michigan, “we were able to really flatten” ...</td>\n",
              "      <td>https://www.politifact.com/factchecks/2021/jan...</td>\n",
              "      <td>uary 22, 2021</td>\n",
              "      <td>Garlin Gilchrist</td>\n",
              "      <td>mostly-true</td>\n",
              "    </tr>\n",
              "  </tbody>\n",
              "</table>\n",
              "</div>"
            ],
            "text/plain": [
              "                                           Statement  ...        Label\n",
              "0  Says the Biden administration labeled Libertar...  ...        false\n",
              "1  National Guard members turned their backs on B...  ...        false\n",
              "2  Video shows Biden saying “salute the Marines” ...  ...        false\n",
              "3  “Democrats forced our GREAT troops to sleep on...  ...        false\n",
              "4  In Michigan, “we were able to really flatten” ...  ...  mostly-true\n",
              "\n",
              "[5 rows x 5 columns]"
            ]
          },
          "metadata": {
            "tags": []
          },
          "execution_count": 4
        }
      ]
    }
  ]
}